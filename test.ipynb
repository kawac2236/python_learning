{
 "cells": [
  {
   "cell_type": "code",
   "execution_count": 2,
   "metadata": {},
   "outputs": [],
   "source": [
    "from janome.tokenizer import Tokenizer"
   ]
  },
  {
   "cell_type": "code",
   "execution_count": 3,
   "metadata": {},
   "outputs": [],
   "source": [
    "t = Tokenizer()\n",
    "\n",
    "s = 'すもももももももものうち'"
   ]
  },
  {
   "cell_type": "code",
   "execution_count": 4,
   "metadata": {},
   "outputs": [
    {
     "name": "stdout",
     "output_type": "stream",
     "text": [
      "<class 'list'>\n"
     ]
    }
   ],
   "source": [
    "print(type(t.tokenize(s)))\n"
   ]
  },
  {
   "cell_type": "code",
   "execution_count": 5,
   "metadata": {},
   "outputs": [
    {
     "name": "stdout",
     "output_type": "stream",
     "text": [
      "<class 'janome.tokenizer.Token'>\n"
     ]
    }
   ],
   "source": [
    "print(type(t.tokenize(s)[0]))\n"
   ]
  },
  {
   "cell_type": "code",
   "execution_count": 6,
   "metadata": {},
   "outputs": [
    {
     "name": "stdout",
     "output_type": "stream",
     "text": [
      "すもも\t名詞,一般,*,*,*,*,すもも,スモモ,スモモ\n",
      "も\t助詞,係助詞,*,*,*,*,も,モ,モ\n",
      "もも\t名詞,一般,*,*,*,*,もも,モモ,モモ\n",
      "も\t助詞,係助詞,*,*,*,*,も,モ,モ\n",
      "もも\t名詞,一般,*,*,*,*,もも,モモ,モモ\n",
      "の\t助詞,連体化,*,*,*,*,の,ノ,ノ\n",
      "うち\t名詞,非自立,副詞可能,*,*,*,うち,ウチ,ウチ\n"
     ]
    }
   ],
   "source": [
    "for token in t.tokenize(s):\n",
    "    print(token)"
   ]
  },
  {
   "cell_type": "code",
   "execution_count": 7,
   "metadata": {},
   "outputs": [],
   "source": [
    "from sklearn.svm import SVC\n",
    "from sklearn.model_selection import train_test_split\n",
    "import numpy as np\n",
    "import pandas as pd\n"
   ]
  },
  {
   "cell_type": "code",
   "execution_count": 8,
   "metadata": {},
   "outputs": [],
   "source": [
    "# class: 0\n",
    "df_a = pd.DataFrame({'x1': np.random.randn(100),\n",
    "                     'x2': np.random.randn(100),\n",
    "                     'y' : 0})\n",
    "# class: 1\n",
    "df_b = pd.DataFrame({'x1': np.random.randn(100) + 5,\n",
    "                     'x2': np.random.randn(100) + 3,\n",
    "                     'y' : 1})\n",
    "df = df_a.append(df_b)\n",
    "\n",
    "# トレーニングデータとテストデータに分割\n",
    "X_train, X_test, y_train, y_test = \\\n",
    "    train_test_split(df[['x1','x2']], df['y'], test_size=0.2)\n"
   ]
  },
  {
   "cell_type": "code",
   "execution_count": null,
   "metadata": {},
   "outputs": [],
   "source": []
  },
  {
   "cell_type": "code",
   "execution_count": 9,
   "metadata": {},
   "outputs": [
    {
     "name": "stderr",
     "output_type": "stream",
     "text": [
      "/opt/conda/lib/python3.7/site-packages/sklearn/svm/base.py:193: FutureWarning: The default value of gamma will change from 'auto' to 'scale' in version 0.22 to account better for unscaled features. Set gamma explicitly to 'auto' or 'scale' to avoid this warning.\n",
      "  \"avoid this warning.\", FutureWarning)\n"
     ]
    }
   ],
   "source": [
    "# 1. モデルインスタンス生成\n",
    "clf = SVC()\n",
    "\n",
    "# 2. fit 学習\n",
    "clf.fit(X_train, y_train)\n",
    "\n",
    "# 3. predict 予測\n",
    "y_pred = clf.predict(X_test)\n"
   ]
  },
  {
   "cell_type": "code",
   "execution_count": 10,
   "metadata": {},
   "outputs": [
    {
     "data": {
      "text/plain": [
       "array([0, 1, 0, 1, 0, 1, 1, 1, 0, 0, 0, 0, 1, 0, 0, 0, 1, 1, 0, 0, 0, 0,\n",
       "       0, 0, 1, 0, 1, 1, 0, 0, 0, 0, 0, 0, 1, 0, 0, 1, 0, 1])"
      ]
     },
     "execution_count": 10,
     "metadata": {},
     "output_type": "execute_result"
    }
   ],
   "source": [
    "y_pred"
   ]
  },
  {
   "cell_type": "code",
   "execution_count": 11,
   "metadata": {},
   "outputs": [],
   "source": [
    "import gensim\n",
    "from gensim import corpora\n"
   ]
  },
  {
   "cell_type": "code",
   "execution_count": 12,
   "metadata": {},
   "outputs": [],
   "source": [
    "documents = [\"Human machine interface for lab abc computer applications\",\n",
    "             \"A survey of user opinion of computer system response time\",\n",
    "             \"The EPS user interface management system\",\n",
    "             \"System and human system engineering testing of EPS\",\n",
    "             \"Relation of user perceived response time to error measurement\",\n",
    "             \"The generation of random binary unordered trees\",\n",
    "             \"The intersection graph of paths in trees\",\n",
    "             \"Graph minors IV Widths of trees and well quasi ordering\",\n",
    "             \"Graph minors A survey\"]"
   ]
  },
  {
   "cell_type": "code",
   "execution_count": 13,
   "metadata": {},
   "outputs": [],
   "source": [
    "stop_words = set('for a of the and to in'.split())"
   ]
  },
  {
   "cell_type": "code",
   "execution_count": 14,
   "metadata": {},
   "outputs": [],
   "source": [
    "texts = [[word for word in document.lower().split() if word not in stop_words] for document in documents]"
   ]
  },
  {
   "cell_type": "code",
   "execution_count": 15,
   "metadata": {},
   "outputs": [],
   "source": [
    "from pprint import pprint"
   ]
  },
  {
   "cell_type": "code",
   "execution_count": 16,
   "metadata": {},
   "outputs": [
    {
     "name": "stdout",
     "output_type": "stream",
     "text": [
      "[['human', 'machine', 'interface', 'lab', 'abc', 'computer', 'applications'],\n",
      " ['survey', 'user', 'opinion', 'computer', 'system', 'response', 'time'],\n",
      " ['eps', 'user', 'interface', 'management', 'system'],\n",
      " ['system', 'human', 'system', 'engineering', 'testing', 'eps'],\n",
      " ['relation', 'user', 'perceived', 'response', 'time', 'error', 'measurement'],\n",
      " ['generation', 'random', 'binary', 'unordered', 'trees'],\n",
      " ['intersection', 'graph', 'paths', 'trees'],\n",
      " ['graph', 'minors', 'iv', 'widths', 'trees', 'well', 'quasi', 'ordering'],\n",
      " ['graph', 'minors', 'survey']]\n"
     ]
    }
   ],
   "source": [
    "pprint(texts)"
   ]
  },
  {
   "cell_type": "code",
   "execution_count": 17,
   "metadata": {},
   "outputs": [],
   "source": [
    "# 単語の出現回数を格納するfrequency変数を定義\n",
    "from collections import defaultdict\n",
    "frequency = defaultdict(int)\n",
    "# 単語の出現回数をfrequency変数でカウント\n",
    "for text in texts:\n",
    "    for token in text:\n",
    "        frequency[token] += 1\n",
    "# frequency変数で1より上の単語のみを配列に構築\n",
    "texts = [[token for token in text if frequency[token] > 1] for text in texts]"
   ]
  },
  {
   "cell_type": "code",
   "execution_count": 18,
   "metadata": {},
   "outputs": [
    {
     "name": "stdout",
     "output_type": "stream",
     "text": [
      "[['human', 'interface', 'computer'],\n",
      " ['survey', 'user', 'computer', 'system', 'response', 'time'],\n",
      " ['eps', 'user', 'interface', 'system'],\n",
      " ['system', 'human', 'system', 'eps'],\n",
      " ['user', 'response', 'time'],\n",
      " ['trees'],\n",
      " ['graph', 'trees'],\n",
      " ['graph', 'minors', 'trees'],\n",
      " ['graph', 'minors', 'survey']]\n"
     ]
    }
   ],
   "source": [
    "pprint(texts)"
   ]
  },
  {
   "cell_type": "code",
   "execution_count": 19,
   "metadata": {},
   "outputs": [],
   "source": [
    "dictionary = corpora.Dictionary(texts)\n",
    "# ファイルに保存できます\n",
    "dictionary.save('/tmp/deerwester.dict')\n",
    "# テキストファイルに保存することもできます\n",
    "dictionary.save_as_text('/tmp/deerwester.dict.txt')"
   ]
  },
  {
   "cell_type": "code",
   "execution_count": 20,
   "metadata": {},
   "outputs": [
    {
     "name": "stdout",
     "output_type": "stream",
     "text": [
      "9\n",
      "0\tcomputer\t2\n",
      "8\teps\t2\n",
      "10\tgraph\t3\n",
      "1\thuman\t2\n",
      "2\tinterface\t2\n",
      "11\tminors\t2\n",
      "3\tresponse\t2\n",
      "4\tsurvey\t2\n",
      "5\tsystem\t3\n",
      "6\ttime\t2\n",
      "9\ttrees\t3\n",
      "7\tuser\t3\n"
     ]
    }
   ],
   "source": [
    "cat /tmp/deerwester.dict.txt"
   ]
  },
  {
   "cell_type": "code",
   "execution_count": 21,
   "metadata": {},
   "outputs": [],
   "source": [
    "corpus = [dictionary.doc2bow(text) for text in texts]\n",
    "# ファイルに保存できる\n",
    "corpora.MmCorpus.serialize('/tmp/deerwester.mm', corpus)"
   ]
  },
  {
   "cell_type": "code",
   "execution_count": 22,
   "metadata": {},
   "outputs": [
    {
     "name": "stdout",
     "output_type": "stream",
     "text": [
      "[[(0, 1), (1, 1), (2, 1)],\n",
      " [(0, 1), (3, 1), (4, 1), (5, 1), (6, 1), (7, 1)],\n",
      " [(2, 1), (5, 1), (7, 1), (8, 1)],\n",
      " [(1, 1), (5, 2), (8, 1)],\n",
      " [(3, 1), (6, 1), (7, 1)],\n",
      " [(9, 1)],\n",
      " [(9, 1), (10, 1)],\n",
      " [(9, 1), (10, 1), (11, 1)],\n",
      " [(4, 1), (10, 1), (11, 1)]]\n"
     ]
    }
   ],
   "source": [
    "pprint(corpus)"
   ]
  },
  {
   "cell_type": "code",
   "execution_count": 23,
   "metadata": {},
   "outputs": [],
   "source": [
    "# num_topics=5で、5個のトピックを持つLDAモデルを作成\n",
    "lda = gensim.models.ldamodel.LdaModel(corpus=corpus, num_topics=5, id2word=dictionary)"
   ]
  },
  {
   "cell_type": "code",
   "execution_count": 24,
   "metadata": {},
   "outputs": [
    {
     "name": "stdout",
     "output_type": "stream",
     "text": [
      "[(0,\n",
      "  '0.187*\"time\" + 0.187*\"user\" + 0.187*\"response\" + 0.184*\"trees\" + '\n",
      "  '0.032*\"system\" + 0.032*\"graph\" + 0.032*\"minors\" + 0.032*\"interface\" + '\n",
      "  '0.032*\"computer\" + 0.032*\"human\"'),\n",
      " (1,\n",
      "  '0.177*\"user\" + 0.177*\"system\" + 0.097*\"time\" + 0.097*\"survey\" + '\n",
      "  '0.097*\"response\" + 0.097*\"computer\" + 0.096*\"interface\" + 0.096*\"eps\" + '\n",
      "  '0.017*\"trees\" + 0.017*\"graph\"'),\n",
      " (2,\n",
      "  '0.233*\"system\" + 0.233*\"human\" + 0.127*\"eps\" + 0.127*\"computer\" + '\n",
      "  '0.127*\"interface\" + 0.023*\"trees\" + 0.022*\"minors\" + 0.022*\"graph\" + '\n",
      "  '0.022*\"user\" + 0.022*\"response\"'),\n",
      " (3,\n",
      "  '0.296*\"trees\" + 0.296*\"graph\" + 0.161*\"minors\" + 0.028*\"system\" + '\n",
      "  '0.028*\"user\" + 0.028*\"interface\" + 0.027*\"response\" + 0.027*\"survey\" + '\n",
      "  '0.027*\"eps\" + 0.027*\"computer\"'),\n",
      " (4,\n",
      "  '0.221*\"graph\" + 0.220*\"survey\" + 0.220*\"minors\" + 0.039*\"trees\" + '\n",
      "  '0.038*\"system\" + 0.038*\"eps\" + 0.038*\"user\" + 0.038*\"interface\" + '\n",
      "  '0.037*\"response\" + 0.037*\"human\"')]\n"
     ]
    }
   ],
   "source": [
    "pprint(lda.show_topics())"
   ]
  },
  {
   "cell_type": "code",
   "execution_count": 25,
   "metadata": {},
   "outputs": [],
   "source": [
    "# 文を定義\n",
    "test_documents = [\"Computer themselves and software yet to be developed will revolutionize the way we learn\"]\n",
    "\n",
    "# 単語を分割\n",
    "test_texts = [[word for word in document.lower().split()] for document in test_documents]\n",
    "\n",
    "# 既存の辞書を使用して、コーパスを作成\n",
    "test_corpus = [dictionary.doc2bow(text) for text in test_texts]\n"
   ]
  },
  {
   "cell_type": "code",
   "execution_count": 27,
   "metadata": {},
   "outputs": [
    {
     "name": "stdout",
     "output_type": "stream",
     "text": [
      "[[(0, 1)]]\n"
     ]
    }
   ],
   "source": [
    "pprint(test_corpus)"
   ]
  },
  {
   "cell_type": "code",
   "execution_count": 28,
   "metadata": {},
   "outputs": [
    {
     "name": "stdout",
     "output_type": "stream",
     "text": [
      "[(0, 0.100038156),\n",
      " (1, 0.1030303),\n",
      " (2, 0.596856),\n",
      " (3, 0.10003165),\n",
      " (4, 0.10004392)]\n"
     ]
    }
   ],
   "source": [
    "for topics_per_document in lda[test_corpus]:\n",
    "    pprint(topics_per_document)\n"
   ]
  },
  {
   "cell_type": "code",
   "execution_count": null,
   "metadata": {},
   "outputs": [],
   "source": []
  }
 ],
 "metadata": {
  "kernelspec": {
   "display_name": "Python 3",
   "language": "python",
   "name": "python3"
  },
  "language_info": {
   "codemirror_mode": {
    "name": "ipython",
    "version": 3
   },
   "file_extension": ".py",
   "mimetype": "text/x-python",
   "name": "python",
   "nbconvert_exporter": "python",
   "pygments_lexer": "ipython3",
   "version": "3.7.4"
  }
 },
 "nbformat": 4,
 "nbformat_minor": 4
}
